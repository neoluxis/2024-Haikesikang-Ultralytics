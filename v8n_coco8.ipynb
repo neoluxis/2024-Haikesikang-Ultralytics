{
 "cells": [
  {
   "cell_type": "code",
   "id": "initial_id",
   "metadata": {
    "collapsed": true,
    "ExecuteTime": {
     "end_time": "2024-10-10T10:14:39.264592Z",
     "start_time": "2024-10-10T10:14:39.163067Z"
    }
   },
   "source": [
    "from ultralytics import YOLO\n",
    "\n",
    "# Load a model\n",
    "model = YOLO(\"yolov8n.yaml\")  # load a pretrained model (recommended for training)\n"
   ],
   "outputs": [],
   "execution_count": 3
  },
  {
   "metadata": {
    "ExecuteTime": {
     "end_time": "2024-10-10T10:19:56.680475Z",
     "start_time": "2024-10-10T10:19:56.419598Z"
    }
   },
   "cell_type": "code",
   "source": [
    "res =model('bus.jpg')\n",
    "res[0].show()"
   ],
   "id": "89f887f8a1b5c625",
   "outputs": [
    {
     "name": "stdout",
     "output_type": "stream",
     "text": [
      "\n",
      "image 1/1 /home/neolux/workspace/YOLO/ultralytics/bus.jpg: 640x480 (no detections), 8.6ms\n",
      "Speed: 23.3ms preprocess, 8.6ms inference, 0.5ms postprocess per image at shape (1, 3, 640, 480)\n"
     ]
    }
   ],
   "execution_count": 6
  },
  {
   "metadata": {},
   "cell_type": "code",
   "source": "model.train(data=\"coco128.yaml\", epochs=20, device=0, batch=8)  # train the model\n",
   "id": "b83b86627e6c3d43",
   "outputs": [],
   "execution_count": null
  },
  {
   "metadata": {
    "ExecuteTime": {
     "end_time": "2024-10-10T10:44:40.847151Z",
     "start_time": "2024-10-10T10:44:33.934429Z"
    }
   },
   "cell_type": "code",
   "source": [
    "path = model.export(format=\"onnx\", opset=11, simplify=True)  # export the model to ONNX format\n",
    "print(path)"
   ],
   "id": "6743a30b74ddc0ee",
   "outputs": [
    {
     "name": "stdout",
     "output_type": "stream",
     "text": [
      "Ultralytics YOLOv8.2.94 🚀 Python-3.11.9 torch-2.3.1+cu118 CPU (Intel Core(TM) i7-9750H 2.60GHz)\n",
      "YOLOv8n summary (fused): 168 layers, 3,151,904 parameters, 0 gradients\n",
      "\n",
      "\u001B[34m\u001B[1mPyTorch:\u001B[0m starting from 'yolov8n.pt' with input shape (1, 3, 640, 640) BCHW and output shape(s) ((), ()) (6.2 MB)\n",
      "\n",
      "\u001B[34m\u001B[1mONNX:\u001B[0m starting export with onnx 1.14.0 opset 11...\n",
      "\u001B[34m\u001B[1mONNX:\u001B[0m slimming with onnxslim 0.1.34...\n",
      "\u001B[34m\u001B[1mONNX:\u001B[0m export success ✅ 3.1s, saved as 'yolov8n.onnx' (12.1 MB)\n",
      "\n",
      "Export complete (6.9s)\n",
      "Results saved to \u001B[1m/home/neolux/workspace/YOLO/ultralytics\u001B[0m\n",
      "Predict:         yolo predict task=detect model=yolov8n.onnx imgsz=640  \n",
      "Validate:        yolo val task=detect model=yolov8n.onnx imgsz=640 data=coco.yaml  \n",
      "Visualize:       https://netron.app\n",
      "yolov8n.onnx\n"
     ]
    }
   ],
   "execution_count": 2
  },
  {
   "metadata": {
    "ExecuteTime": {
     "end_time": "2024-10-10T10:44:33.926448Z",
     "start_time": "2024-10-10T10:44:28.760492Z"
    }
   },
   "cell_type": "code",
   "source": [
    "from ultralytics import YOLO\n",
    "\n",
    "model = YOLO(\"yolov8n.pt\") "
   ],
   "id": "c8be663a9c676bd",
   "outputs": [],
   "execution_count": 1
  },
  {
   "metadata": {},
   "cell_type": "code",
   "outputs": [],
   "execution_count": null,
   "source": "",
   "id": "c4014e4f339be3c5"
  }
 ],
 "metadata": {
  "kernelspec": {
   "display_name": "Python 3",
   "language": "python",
   "name": "python3"
  },
  "language_info": {
   "codemirror_mode": {
    "name": "ipython",
    "version": 2
   },
   "file_extension": ".py",
   "mimetype": "text/x-python",
   "name": "python",
   "nbconvert_exporter": "python",
   "pygments_lexer": "ipython2",
   "version": "2.7.6"
  }
 },
 "nbformat": 4,
 "nbformat_minor": 5
}
